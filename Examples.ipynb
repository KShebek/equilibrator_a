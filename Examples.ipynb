{
 "cells": [
  {
   "cell_type": "markdown",
   "metadata": {},
   "source": [
    "# Examples highlighting eQuilibrator use on arbitrary compounds"
   ]
  },
  {
   "cell_type": "code",
   "execution_count": 2,
   "metadata": {
    "tags": []
   },
   "outputs": [
    {
     "output_type": "stream",
     "name": "stdout",
     "text": "Downloading package metadata...\nFragments already downloaded\n0.2.10 equilibrator/cache\nDownloading package metadata...\nFragments already downloaded\nDownloading package metadata...\nFragments already downloaded\n"
    }
   ],
   "source": [
    "import equilibrator_a as ea\n",
    "from equilibrator_cache import Q_\n",
    "from component_contribution.predict import GibbsEnergyPredictor\n",
    "GP = GibbsEnergyPredictor()"
   ]
  },
  {
   "cell_type": "markdown",
   "metadata": {},
   "source": [
    "# Generating compound objects\n",
    "To generate the compound objects there are two functions:\n",
    "\n",
    "1. get_compound(mol_string)\n",
    "1. gen_compound(mol_string)\n",
    "\n",
    "**get_compound** checks the ccache first for a match and uses precomputed values to estimate ∆G. \n",
    "\n",
    "**gen_compound** is used in the event of no match. This function generates a compound object using cxcalc.\n",
    "\n",
    "\n"
   ]
  },
  {
   "cell_type": "code",
   "execution_count": 3,
   "metadata": {
    "tags": []
   },
   "outputs": [
    {
     "output_type": "stream",
     "name": "stdout",
     "text": "cpd_get id: 287\ncpd_gen id: -1\n"
    }
   ],
   "source": [
    "# get_compound first tries to find a compound in the ccache that matches the smiles. If not found it calculates\n",
    "# using cxcalc. Both functions return a compound object\n",
    "mol_string = 'CCO'\n",
    "cpd_get = ea.get_compound(mol_string)\n",
    "# gen_cpd creates a new compound using cxcalc\n",
    "cpd_gen = ea.gen_compound(mol_string)\n",
    "\n",
    "# An easy way to check if a compound was found or generated is checking the ids. A ccache compound has a positive id. A calculated compound has an id of -1.\n",
    "print(f'cpd_get id: {cpd_get.id}')\n",
    "print(f'cpd_gen id: {cpd_gen.id}')"
   ]
  },
  {
   "cell_type": "code",
   "execution_count": 5,
   "metadata": {
    "tags": []
   },
   "outputs": [
    {
     "output_type": "stream",
     "name": "stdout",
     "text": "cpd_get id: 51439\ncpd_gen id: -1\n"
    }
   ],
   "source": [
    "# For a compound not in ccache cpd_get and cpd_gen return the same value. Using an arbitrary compound here.\n",
    "mol_string = 'C(O)CCCCCCCO'\n",
    "cpd_get = ea.get_compound(mol_string)\n",
    "# gen_cpd creates a new compound using cxcalc\n",
    "cpd_gen = ea.gen_compound(mol_string)\n",
    "\n",
    "# Both compounds have an id of -1, meaning the compound is not in ccache\n",
    "print(f'cpd_get id: {cpd_get.id}')\n",
    "print(f'cpd_gen id: {cpd_gen.id}')"
   ]
  },
  {
   "cell_type": "markdown",
   "metadata": {},
   "source": [
    "# Calculating ∆Go and ∆G'o for compounds already in the compound_cache\n",
    "The compound values in the compound cache should agree when there is no magnesium data and the compound is not in the training data. "
   ]
  },
  {
   "cell_type": "code",
   "execution_count": 7,
   "metadata": {
    "tags": []
   },
   "outputs": [
    {
     "output_type": "stream",
     "name": "stdout",
     "text": "cpd_get id: 1280\ncpd_gen id: -1\n\nccache compound and generated compound give the same result for ∆Go\n(-453.0 +/- 1.3) kilojoule / mole\n(-453.0 +/- 1.3) kilojoule / mole\n"
    }
   ],
   "source": [
    "# Calculating ∆Go\n",
    "# Comparing results from the two methods for a compound in ccache and NOT in the training data\n",
    "mol_smiles = 'C(=O)CCCC(O)=O'\n",
    "cpd_get = ea.get_compound(mol_smiles)\n",
    "cpd_gen = ea.gen_compound(mol_smiles)\n",
    "print(f'cpd_get id: {cpd_get.id}')\n",
    "print(f'cpd_gen id: {cpd_gen.id}')\n",
    "\n",
    "print('\\nccache compound and generated compound give the same result for ∆Go')\n",
    "print(GP.standard_dgf(cpd_get))\n",
    "print(GP.standard_dgf(cpd_gen))"
   ]
  },
  {
   "cell_type": "code",
   "execution_count": 9,
   "metadata": {
    "tags": []
   },
   "outputs": [
    {
     "output_type": "stream",
     "name": "stdout",
     "text": "cpd_get id: 1280\ncpd_gen id: -1\n\nccache compound and generated compound give the same result for ∆G'o\n(-169.8 +/- 1.3) kilojoule / mole\n(-169.8 +/- 1.3) kilojoule / mole\n"
    }
   ],
   "source": [
    "# Calculating ∆G'o for a compound in the ccache without magensium data and not in the training data\n",
    "mol_smiles = 'C(=O)CCCC(O)=O'\n",
    "cond = {\n",
    "    'p_h': Q_(7),\n",
    "    'ionic_strength': Q_('0.1M'),\n",
    "    'temperature': Q_('298.15K'),\n",
    "    'p_mg': Q_(0)}\n",
    "    \n",
    "print(f'cpd_get id: {cpd_get.id}')\n",
    "print(f'cpd_gen id: {cpd_gen.id}')\n",
    "\n",
    "print('\\nccache compound and generated compound give the same result for ∆G\\'o')\n",
    "print(GP.standard_dgf_prime(cpd_get, **cond))\n",
    "print(GP.standard_dgf_prime(cpd_gen, **cond))"
   ]
  },
  {
   "cell_type": "markdown",
   "metadata": {},
   "source": [
    "# Calculating ∆Go and ∆G'o for compounds not in the compound_cache"
   ]
  },
  {
   "cell_type": "code",
   "execution_count": 13,
   "metadata": {
    "tags": []
   },
   "outputs": [
    {
     "output_type": "stream",
     "name": "stdout",
     "text": "SMILES: OC(=O)CCOCCO\ncpd_get id: -1\n(-245.6 +/- 1.9) kilojoule / mole\n"
    }
   ],
   "source": [
    "mol_string = 'OC(=O)CCOCCO'\n",
    "cond = {\n",
    "    'p_h': Q_(7),\n",
    "    'ionic_strength': Q_('0.1M'),\n",
    "    'temperature': Q_('298.15K'),\n",
    "    'p_mg': Q_(0)}\n",
    "\n",
    "cpd_get = ea.get_compound(mol_string)\n",
    "print(f'SMILES: {mol_string}\\ncpd_get id: {cpd_get.id}')\n",
    "print(GP.standard_dgf_prime(cpd_get, **cond))\n",
    "\n"
   ]
  },
  {
   "cell_type": "markdown",
   "metadata": {},
   "source": [
    "# compound_cache vs generated -- Magnesium"
   ]
  },
  {
   "cell_type": "code",
   "execution_count": 35,
   "metadata": {
    "tags": []
   },
   "outputs": [
    {
     "output_type": "stream",
     "name": "stdout",
     "text": "cpd_get id: 50\ncpd_gen id: -1\n\nccache compound and generated compound give different results for ∆G'o\n(-1945 +/- 5) kilojoule / mole\n(-1944 +/- 5) kilojoule / mole\n"
    }
   ],
   "source": [
    "mol_smiles = 'C1=NC2=C(C(=N1)N)N=CN2[C@H]3[C@@H]([C@@H]([C@H](O3)COP(=O)(O)OS(=O)(=O)O)OP(=O)(O)O)O'\n",
    "cpd_get = ea.get_compound(mol_smiles)\n",
    "cpd_gen = ea.gen_compound(mol_smiles)\n",
    "cond = {\n",
    "    'p_h': Q_(7),\n",
    "    'ionic_strength': Q_('0.1M'),\n",
    "    'temperature': Q_('298.15K'),\n",
    "    'p_mg': Q_(0)}\n",
    "print(f'cpd_get id: {cpd_get.id}')\n",
    "print(f'cpd_gen id: {cpd_gen.id}')\n",
    "\n",
    "print('\\nccache compound and generated compound give different results for ∆G\\'o')\n",
    "print(GP.standard_dgf_prime(cpd_get, **cond))\n",
    "print(GP.standard_dgf_prime(cpd_gen, **cond))"
   ]
  },
  {
   "cell_type": "code",
   "execution_count": 33,
   "metadata": {
    "tags": []
   },
   "outputs": [
    {
     "output_type": "stream",
     "name": "stdout",
     "text": "set()\n"
    },
    {
     "output_type": "execute_result",
     "data": {
      "text/plain": "['ORDER_OF_REGISTRIES',\n 'atom_bag',\n 'created_on',\n 'dissociation_constants',\n 'formula',\n 'get_accession',\n 'get_common_name',\n 'group_vector',\n 'id',\n 'identifiers',\n 'inchi',\n 'inchi_key',\n 'magnesium_dissociation_constants',\n 'mass',\n 'metadata',\n 'microspecies',\n 'net_charge',\n 'smiles',\n 'transform',\n 'updated_on']"
     },
     "metadata": {},
     "execution_count": 33
    }
   ],
   "source": [
    "# Checking to see if cpd_get and cpd_gen have same values in the directory\n",
    "print(set([i for i in dir(cpd_get) if not i.startswith('_')]).difference([i for i in dir(cpd_gen) if not i.startswith('_')]))\n",
    "[i for i in dir(cpd_get) if not i.startswith('_')]"
   ]
  },
  {
   "cell_type": "code",
   "execution_count": 36,
   "metadata": {},
   "outputs": [
    {
     "output_type": "execute_result",
     "data": {
      "text/plain": "[CompoundIdentifier(registry=Registry(namespace=bigg.metabolite), accession=paps),\n CompoundIdentifier(registry=Registry(namespace=bigg.metabolite), accession=M_paps),\n CompoundIdentifier(registry=Registry(namespace=chebi), accession=CHEBI:17980),\n CompoundIdentifier(registry=Registry(namespace=chebi), accession=CHEBI:11679),\n CompoundIdentifier(registry=Registry(namespace=chebi), accession=CHEBI:11680),\n CompoundIdentifier(registry=Registry(namespace=chebi), accession=CHEBI:1353),\n CompoundIdentifier(registry=Registry(namespace=chebi), accession=CHEBI:19857),\n CompoundIdentifier(registry=Registry(namespace=chebi), accession=CHEBI:58339),\n CompoundIdentifier(registry=Registry(namespace=hmdb), accession=HMDB01134),\n CompoundIdentifier(registry=Registry(namespace=hmdb), accession=HMDB62646),\n CompoundIdentifier(registry=Registry(namespace=kegg), accession=C00053),\n CompoundIdentifier(registry=Registry(namespace=metacyc.compound), accession=PAPS),\n CompoundIdentifier(registry=Registry(namespace=reactome), accession=158471),\n CompoundIdentifier(registry=Registry(namespace=reactome), accession=741440),\n CompoundIdentifier(registry=Registry(namespace=sabiork.compound), accession=1776),\n CompoundIdentifier(registry=Registry(namespace=seed), accession=cpd00044),\n CompoundIdentifier(registry=Registry(namespace=metanetx.chemical), accession=MNXM680552),\n CompoundIdentifier(registry=Registry(namespace=metanetx.chemical), accession=MNXM89597),\n CompoundIdentifier(registry=Registry(namespace=metanetx.chemical), accession=MNXM89710),\n CompoundIdentifier(registry=Registry(namespace=metanetx.chemical), accession=MNXM49),\n CompoundIdentifier(registry=Registry(namespace=synonyms), accession=3'-Phosphoadenylyl sulfate),\n CompoundIdentifier(registry=Registry(namespace=synonyms), accession=3'-O-phosphono-5'-adenylyl sulfate),\n CompoundIdentifier(registry=Registry(namespace=synonyms), accession=3'-Phospho-5'-adenylyl sulfate),\n CompoundIdentifier(registry=Registry(namespace=synonyms), accession=3'-Phosphoadenosine 5'-phosphosulfate),\n CompoundIdentifier(registry=Registry(namespace=synonyms), accession=3'-Phosphoadenylyl sulfate),\n CompoundIdentifier(registry=Registry(namespace=synonyms), accession=3'-phospho-5'-adenylyl sulfate),\n CompoundIdentifier(registry=Registry(namespace=synonyms), accession=3'-phosphoadenosine 5'-phosphosulfate),\n CompoundIdentifier(registry=Registry(namespace=synonyms), accession=GACDQMDRPRGCTN-KQYNXXCUSA-N),\n CompoundIdentifier(registry=Registry(namespace=synonyms), accession=PAPS),\n CompoundIdentifier(registry=Registry(namespace=synonyms), accession=3'-O-phosphonato-5'-O-[(sulfonatooxy)phosphinato]adenosine),\n CompoundIdentifier(registry=Registry(namespace=synonyms), accession=3'-phosphoadenylyl sulfate),\n CompoundIdentifier(registry=Registry(namespace=synonyms), accession=3'-phosphonato-5'-adenylyl sulfate),\n CompoundIdentifier(registry=Registry(namespace=synonyms), accession=3'-phosphonato-5'-adenylyl sulfate tetraanion),\n CompoundIdentifier(registry=Registry(namespace=synonyms), accession=3'-phosphonato-5'-adenylyl sulfate(4-)),\n CompoundIdentifier(registry=Registry(namespace=synonyms), accession=3'-phosphonatoadenosine 5'-phosphosulfate),\n CompoundIdentifier(registry=Registry(namespace=synonyms), accession=3'-phosphonatoadenosine 5'-phosphosulfate tetraanion),\n CompoundIdentifier(registry=Registry(namespace=synonyms), accession=3'-phosphonatoadenosine 5'-phosphosulfate(4-)),\n CompoundIdentifier(registry=Registry(namespace=synonyms), accession=GACDQMDRPRGCTN-KQYNXXCUSA-J),\n CompoundIdentifier(registry=Registry(namespace=synonyms), accession=PAPS),\n CompoundIdentifier(registry=Registry(namespace=synonyms), accession=PAPS tetraanion),\n CompoundIdentifier(registry=Registry(namespace=synonyms), accession=PAPS(4-)),\n CompoundIdentifier(registry=Registry(namespace=synonyms), accession=3'-phosphoadenylyl sulfate),\n CompoundIdentifier(registry=Registry(namespace=synonyms), accession=Phosphoadenosine phosphosulfate),\n CompoundIdentifier(registry=Registry(namespace=synonyms), accession=[({[(2R,3S,4R,5R)-5-(6-amino-9H-purin-9-yl)-4-hydroxy-3-(phosphonooxy)oxolan-2-yl]methoxy}(hydroxy)phosphoryl)oxy]sulfonic acid),\n CompoundIdentifier(registry=Registry(namespace=synonyms), accession=(2R,3S,4R,5R)-5-(6-amino-9H-purin-9-yl)-4-hydroxy-2-({[(sulfonatooxy)phosphinato]oxy}methyl)oxolan-3-yl phosphate),\n CompoundIdentifier(registry=Registry(namespace=synonyms), accession=3'-phosphonato-5'-adenylyl Sulfate(4-)),\n CompoundIdentifier(registry=Registry(namespace=synonyms), accession=PAPS),\n CompoundIdentifier(registry=Registry(namespace=synonyms), accession=3'-Phospho-5'-adenylyl sulfate),\n CompoundIdentifier(registry=Registry(namespace=synonyms), accession=3'-Phosphoadenosine 5'-phosphosulfate),\n CompoundIdentifier(registry=Registry(namespace=synonyms), accession=3'-Phosphoadenylyl sulfate),\n CompoundIdentifier(registry=Registry(namespace=synonyms), accession=PAPS),\n CompoundIdentifier(registry=Registry(namespace=synonyms), accession=3'-phospho-5'-adenylyl sulfate),\n CompoundIdentifier(registry=Registry(namespace=synonyms), accession=3'-phosphoadenosine-5'-phosphosulfate),\n CompoundIdentifier(registry=Registry(namespace=synonyms), accession=3'-phosphoadenylyl sulfate),\n CompoundIdentifier(registry=Registry(namespace=synonyms), accession=3'-phosphoadenylyl-sulfate),\n CompoundIdentifier(registry=Registry(namespace=synonyms), accession=PAPS),\n CompoundIdentifier(registry=Registry(namespace=synonyms), accession=phosphoadenosine phosphosulfate),\n CompoundIdentifier(registry=Registry(namespace=synonyms), accession=phosphoadenosine-5'-phosphosulfate),\n CompoundIdentifier(registry=Registry(namespace=synonyms), accession=3'-phospho-5'-adenylyl sulfate),\n CompoundIdentifier(registry=Registry(namespace=synonyms), accession=PAPS),\n CompoundIdentifier(registry=Registry(namespace=synonyms), accession=3'-Phospho-5'-adenylyl sulfate),\n CompoundIdentifier(registry=Registry(namespace=synonyms), accession=3'-Phosphoadenosine 5'-phosphosulfate),\n CompoundIdentifier(registry=Registry(namespace=synonyms), accession=3'-Phosphoadenylyl sulfate),\n CompoundIdentifier(registry=Registry(namespace=synonyms), accession=3'-Phosphoadenylylsulfate),\n CompoundIdentifier(registry=Registry(namespace=synonyms), accession=PAPS),\n CompoundIdentifier(registry=Registry(namespace=synonyms), accession=3'-Phospho-5'-adenylyl sulfate),\n CompoundIdentifier(registry=Registry(namespace=synonyms), accession=3'-Phosphoadenosine 5'-phosphosulfate),\n CompoundIdentifier(registry=Registry(namespace=synonyms), accession=3'-Phosphoadenylyl sulfate),\n CompoundIdentifier(registry=Registry(namespace=synonyms), accession=3-Phosphoadenylylsulfate),\n CompoundIdentifier(registry=Registry(namespace=synonyms), accession=3-phospho-adenylylsulfate),\n CompoundIdentifier(registry=Registry(namespace=synonyms), accession=3-phosphoadenylyl sulfate),\n CompoundIdentifier(registry=Registry(namespace=synonyms), accession=3-phosphoadenylylsulfate),\n CompoundIdentifier(registry=Registry(namespace=synonyms), accession=PAPS),\n CompoundIdentifier(registry=Registry(namespace=synonyms), accession=paps)]"
     },
     "metadata": {},
     "execution_count": 36
    }
   ],
   "source": [
    "cpd_get.identifiers"
   ]
  },
  {
   "cell_type": "code",
   "execution_count": null,
   "metadata": {},
   "outputs": [],
   "source": []
  }
 ],
 "metadata": {
  "language_info": {
   "codemirror_mode": {
    "name": "ipython",
    "version": 3
   },
   "file_extension": ".py",
   "mimetype": "text/x-python",
   "name": "python",
   "nbconvert_exporter": "python",
   "pygments_lexer": "ipython3",
   "version": "3.7.6-final"
  },
  "orig_nbformat": 2,
  "kernelspec": {
   "name": "python37664bitcorecondabb4344123de84203808d4de20ce37c1e",
   "display_name": "Python 3.7.6 64-bit ('core': conda)"
  }
 },
 "nbformat": 4,
 "nbformat_minor": 2
}