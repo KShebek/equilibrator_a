{
 "cells": [
  {
   "cell_type": "markdown",
   "metadata": {},
   "source": [
    "# Quilt\n",
    "Testing out quilt. The major questions I have are:\n",
    "1. Can I duplicate Noor's quilt package for myself\n",
    "2. Can I push that to my quilt account?"
   ]
  },
  {
   "cell_type": "code",
   "execution_count": 1,
   "metadata": {
    "tags": []
   },
   "outputs": [
    {
     "output_type": "stream",
     "name": "stdout",
     "text": "Launching a web browser...\nIf that didn't work, please visit the following URL: https://pkg.quiltdata.com/login\n\n"
    }
   ],
   "source": [
    "import quilt\n",
    "quilt.login()"
   ]
  },
  {
   "cell_type": "code",
   "execution_count": 2,
   "metadata": {
    "tags": []
   },
   "outputs": [
    {
     "output_type": "stream",
     "name": "stdout",
     "text": "Downloading package metadata...\nFragments already downloaded\n"
    }
   ],
   "source": [
    "# Download Noor data\n",
    "quilt.install(package=\"equilibrator/cache\", version=\"0.2.10\", force=True)"
   ]
  },
  {
   "cell_type": "code",
   "execution_count": 5,
   "metadata": {
    "tags": []
   },
   "outputs": [
    {
     "output_type": "stream",
     "name": "stderr",
     "text": "Exporting file 2 of 2 [00:02]: compounds.sqlite\n"
    }
   ],
   "source": [
    "# Export Noor data to add to local quilt\n",
    "q = quilt.load(\"equilibrator/cache\")\n",
    "quilt.export(\"equilibrator/cache\", \"./cache\")\n",
    "# after exporting compounds.sqlite will exist in the cache"
   ]
  },
  {
   "cell_type": "code",
   "execution_count": null,
   "metadata": {},
   "outputs": [],
   "source": []
  },
  {
   "cell_type": "code",
   "execution_count": 3,
   "metadata": {
    "tags": []
   },
   "outputs": [
    {
     "output_type": "stream",
     "name": "stderr",
     "text": "0%|          | 0.00/2.15k [00:00<?, ?B/s]Fetching upload URLs from the registry...\nUploading 1 fragments (2150 bytes)...\n100%|██████████| 2.15k/2.15k [00:00<00:00, 8.43kB/s]Fragment 18ea938f06e565acd423801c17ba27a6afb13b98335a45acf4a6173e3a5a9cc4 already uploaded; skipping.\nUploading package metadata...\nUpdating the 'latest' tag...\nPush complete. kevbot/test is live:\nhttps://legacy.quiltdata.com/package/kevbot/test\n\n"
    }
   ],
   "source": [
    "quilt.push('kevbot/test', is_public=False, is_team=False)"
   ]
  }
 ],
 "metadata": {
  "language_info": {
   "codemirror_mode": {
    "name": "ipython",
    "version": 3
   },
   "file_extension": ".py",
   "mimetype": "text/x-python",
   "name": "python",
   "nbconvert_exporter": "python",
   "pygments_lexer": "ipython3",
   "version": "3.7.6-final"
  },
  "orig_nbformat": 2,
  "kernelspec": {
   "name": "python37664bitcorecondabb4344123de84203808d4de20ce37c1e",
   "display_name": "Python 3.7.6 64-bit ('core': conda)"
  }
 },
 "nbformat": 4,
 "nbformat_minor": 2
}